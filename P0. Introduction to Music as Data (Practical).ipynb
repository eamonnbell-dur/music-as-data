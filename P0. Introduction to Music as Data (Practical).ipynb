{
 "cells": [
  {
   "cell_type": "markdown",
   "id": "903e35d8-c8bc-4b95-ba49-11afcdffdd5c",
   "metadata": {},
   "source": [
    "# P0. Introduction to Music as Data (Practical)\n",
    "\n",
    "Eamonn Bell \\<eamonn.bell@durham.ac.uk\\>  \n",
    "Department of Computer Science  \n",
    "Durham University\n",
    "\n",
    "Guest lecture for Master of Data Science (Digital Humanities) students  \n",
    "Digital Humanities: Practice and Theory (Heslin)  \n",
    "9a-11a, 1p-2p; November 28, 2021"
   ]
  },
  {
   "cell_type": "markdown",
   "id": "5316ac46-2fb4-44b7-b477-880e36ffe425",
   "metadata": {},
   "source": [
    "## Instructions\n",
    "\n",
    "Everyone should complete P0.T1 and attempt at least one of P0.T2A, P0.T2B, or P0.T3.\n",
    "\n",
    "At about 1:40 p.m. I'll invited you to share your visualisation with the class. To do this, please join the Zoom room (with your microphone muted or, ideally, without joining the audio part of the call) and share your screen.\n",
    "\n",
    "If you are happy to do so, please download and email your attempts to me in the .ipynb format at <eamonn.bell@durham.ac.uk>. They will not be marked but they will help me improve this material for future courses on the same topic.\n",
    "\n",
    "### P0.T1. Customize your own visualisation\n",
    "\n",
    "- record your own audio file\n",
    "- process it whatever way you like\n",
    "- extract some features or segmentatiosn\n",
    "- remix\n",
    "- plot side by side\n",
    "\n",
    "\n",
    "### P0.T2A. @DLEveryFriday\n",
    "\n",
    "Every Friday since X, David Lynch has posted a video message.\n",
    "\n",
    "download gallery\n",
    "audalign\n",
    "\n",
    "https://pypi.org/project/audalign/\n",
    "\n",
    "### P0.T2B. Write your own onset detector\n",
    "\n",
    "- scoring function\n",
    "- parameter search\n",
    "\n",
    "### P0.T2C. Text analysis"
   ]
  },
  {
   "cell_type": "code",
   "execution_count": null,
   "id": "7984ed6c-9c99-4e44-84a0-bd733c9486ec",
   "metadata": {},
   "outputs": [],
   "source": []
  }
 ],
 "metadata": {
  "kernelspec": {
   "display_name": "Python 3 (ipykernel)",
   "language": "python",
   "name": "python3"
  },
  "language_info": {
   "codemirror_mode": {
    "name": "ipython",
    "version": 3
   },
   "file_extension": ".py",
   "mimetype": "text/x-python",
   "name": "python",
   "nbconvert_exporter": "python",
   "pygments_lexer": "ipython3",
   "version": "3.7.11"
  }
 },
 "nbformat": 4,
 "nbformat_minor": 5
}
